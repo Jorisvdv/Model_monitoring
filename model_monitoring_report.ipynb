{
 "cells": [
  {
   "cell_type": "code",
   "execution_count": null,
   "id": "a5b3bd1a",
   "metadata": {},
   "outputs": [],
   "source": [
    "from results import TemporalValidation\n",
    "from data_monitoring import DataDrift\n",
    "import mlflow\n",
    "from pathlib import Path\n",
    "import pandas as pd\n",
    "\n",
    "# %%\n",
    "figure_folder = Path.cwd() / \"figures\"\n",
    "result_folder = Path.cwd().parent / \"chirurgie-desire\" / \"results\"\n",
    "\n",
    "\n",
    "# %%\n",
    "mlflow.set_tracking_uri(f\"sqlite:///{result_folder}/mlruns.db\")\n"
   ]
  },
  {
   "cell_type": "code",
   "execution_count": null,
   "id": "8c573088",
   "metadata": {},
   "outputs": [],
   "source": [
    "from load_data import CATEGORICAL_FEATURES_RENAMED, RENAME_LABELS_DICT, X_test, X_train, date_split, y_test, y_train"
   ]
  },
  {
   "cell_type": "markdown",
   "id": "d7425384",
   "metadata": {},
   "source": [
    "## 1. Temporal validation"
   ]
  },
  {
   "cell_type": "code",
   "execution_count": null,
   "id": "7070a633",
   "metadata": {},
   "outputs": [],
   "source": [
    "# Define performance limits\n",
    "validation_score_mean = {\"mean_ROC\": 0.82, \"std_ROC\": 0.02, \"mean_Brier\": 0.158, \"std_Brier\": 0.01}\n",
    "\n",
    "mean_AUC = validation_score_mean[\"mean_ROC\"]\n",
    "AUC_SD = validation_score_mean[\"std_ROC\"]\n",
    "auc_lower_limit = mean_AUC - (3 * AUC_SD)\n",
    "\n",
    "mean_brier = validation_score_mean[\"mean_Brier\"]\n",
    "brier_SD = validation_score_mean[\"std_Brier\"]\n",
    "brier_upper_limit = mean_brier + (3 * brier_SD)\n",
    "\n",
    "test_data = pd.merge(X_test, y_test, left_index=True, right_index=True)\n",
    "\n",
    "temporal_validation = TemporalValidation(\n",
    "    models=models,\n",
    "    target_column=\"safe_discharge\",\n",
    "    date_column=\"admission_start_time\",\n",
    "    rolling_window=1,\n",
    ")\n",
    "performance_df = temporal_validation.calculate_monthly_performance(test_data)\n",
    "\n",
    "fig = temporal_validation.plot_monthly_performance(\n",
    "    title=\"Model Performance Over Time\",\n",
    "    auc_lower_limit=auc_lower_limit,\n",
    "    brier_upper_limit=brier_upper_limit,\n",
    "    plot_auc=True,\n",
    "    plot_brier=True,\n",
    ")\n",
    "if fig:\n",
    "    fig.show()"
   ]
  },
  {
   "cell_type": "markdown",
   "id": "33f18550",
   "metadata": {},
   "source": [
    "## 2. Data Drift Monitoring"
   ]
  },
  {
   "cell_type": "code",
   "execution_count": null,
   "id": "a3cebce2",
   "metadata": {},
   "outputs": [],
   "source": [
    "X_train_renamed = X_train.rename(columns=RENAME_LABELS_DICT)\n",
    "X_test_renamed = X_test.rename(columns=RENAME_LABELS_DICT)\n",
    "\n",
    "# Initialize and run the data drift monitor\n",
    "drift_monitor = DataDrift(\n",
    "    X_train=X_train_renamed.drop(columns=[\"Hospital\"]),\n",
    "    categorical_features=CATEGORICAL_FEATURES_RENAMED,\n",
    "    timestamp_column=\"admission_start_time\",\n",
    ")\n",
    "drift_monitor.fit()\n",
    "drift_monitor.calculate(X_test_renamed.drop(columns=[\"Hospital\"]))\n",
    "\n",
    "# Check for univariate alerts\n",
    "univariate_alerts = drift_monitor.get_univariate_alerts()\n",
    "if univariate_alerts:\n",
    "    print(\"Univariate Drift Alerts for the following features:\")\n",
    "    print(univariate_alerts)\n",
    "    # Plot drift for alerted features\n",
    "    drift_plot = drift_monitor.plot_univariate_drift(kind=\"drift\", column_names=univariate_alerts)\n",
    "    if drift_plot:\n",
    "        drift_plot.show()\n",
    "\n",
    "    dist_plot = drift_monitor.plot_univariate_drift(kind=\"distribution\", column_names=univariate_alerts)\n",
    "    if dist_plot:\n",
    "        dist_plot.show()\n",
    "\n",
    "else:\n",
    "    print(\"No univariate drift detected.\")\n",
    "\n",
    "# Check for multivariate alerts\n",
    "multivariate_alerts = drift_monitor.get_multivariate_alerts()\n",
    "if not multivariate_alerts.empty:\n",
    "    print(\"\\nMultivariate Drift Alerts:\")\n",
    "    print(multivariate_alerts)\n",
    "    # Plot multivariate drift\n",
    "    multi_drift_plot = drift_monitor.plot_multivariate_drift()\n",
    "    if multi_drift_plot:\n",
    "        multi_drift_plot.show()\n",
    "else:\n",
    "    print(\"\\nNo multivariate drift detected.\")"
   ]
  }
 ],
 "metadata": {
  "language_info": {
   "name": "python"
  }
 },
 "nbformat": 4,
 "nbformat_minor": 5
}
